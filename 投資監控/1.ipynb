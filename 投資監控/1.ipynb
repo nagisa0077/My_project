{
 "cells": [
  {
   "cell_type": "code",
   "execution_count": 1,
   "metadata": {},
   "outputs": [],
   "source": [
    "import pandas as pd\n",
    "import requests\n",
    "from datetime import datetime\n",
    "import os\n",
    "from bs4 import BeautifulSoup\n",
    "import requests\n",
    "from datetime import datetime\n",
    "\n",
    "# Excel 檔案名稱\n",
    "FILENAME = \"investment_tracking.xlsx\"\n",
    "\n",
    "# 初始化交易紀錄 DataFrame\n",
    "columns = ['日期', '投資類型', '投資項目', '數量_or_外幣金額', '買進匯率','價格(台幣)']\n",
    "if os.path.exists(FILENAME):\n",
    "    transactions = pd.read_excel(FILENAME)\n",
    "else:\n",
    "    transactions = pd.DataFrame(columns=columns)"
   ]
  },
  {
   "cell_type": "markdown",
   "metadata": {},
   "source": [
    "##### 黃金function"
   ]
  },
  {
   "cell_type": "code",
   "execution_count": 31,
   "metadata": {},
   "outputs": [],
   "source": [
    "# 取得黃金即時價格\n",
    "def get_gold_price():\n",
    "    try:\n",
    "        # Alpha Vantage 的 API URL\n",
    "        url = \"https://www.alphavantage.co/query?function=TIME_SERIES_DAILY&symbol=XAUUSD&apikey=T4QJDQEMPG0ED9A3&datatype=json\"\n",
    "        response = requests.get(url)\n",
    "        data = response.json()\n",
    "        \n",
    "        # 獲取最近的日期\n",
    "        latest_date = max(data[\"Time Series (Daily)\"].keys())\n",
    "        \n",
    "        # 提取該日期的收盤價\n",
    "        gold_price = float(data[\"Time Series (Daily)\"][latest_date][\"4. close\"])\n",
    "        \n",
    "        print(f\"黃金價格 (日期: {latest_date}): {gold_price} USD\")\n",
    "        return gold_price\n",
    "    except Exception as e:\n",
    "        print(\"取得黃金價格時出現錯誤：\", e)\n",
    "        return None\n",
    "\n",
    "# 取得歷史黃金價格\n",
    "def get_historical_gold_price(date):\n",
    "    \n",
    "    try:\n",
    "        url = f\"https://www.alphavantage.co/query?function=TIME_SERIES_DAILY&symbol=XAUUSD&apikey=T4QJDQEMPG0ED9A3&datatype=json\"\n",
    "        response = requests.get(url)\n",
    "        date = response.json()\n",
    "        \n",
    "        if \"Time Series (Daily)\" in date:\n",
    "            historical_data = date[\"Time Series (Daily)\"]\n",
    "            if date in historical_data:\n",
    "                gold_price = float(historical_data[date][\"4. close\"])  # 收盤價\n",
    "                print(f\"黃金價格 (日期: {date}): {gold_price} USD\")\n",
    "                return gold_price\n",
    "            else:\n",
    "                print(f\"無法找到 {date} 的金價。\")\n",
    "                return None\n",
    "        else:\n",
    "            print(\"無法取得歷史金價:\", date.get(\"Note\", \"Unknown error\"))\n",
    "            return None\n",
    "    except Exception as e:\n",
    "        print(\"取得歷史金價時出現錯誤：\", e)\n",
    "        return None\n"
   ]
  },
  {
   "cell_type": "markdown",
   "metadata": {},
   "source": [
    "##### 外匯function"
   ]
  },
  {
   "cell_type": "code",
   "execution_count": 18,
   "metadata": {},
   "outputs": [],
   "source": [
    "# 取得當前匯率\n",
    "def get_exchange_rate(base_currency):\n",
    "    try:\n",
    "        # 這裡以 exchangeratesapi.io 為例，請替換成合適的API\n",
    "        url = f\"https://www.alphavantage.co/query?function=FX_DAILY&from_symbol={base_currency}&to_symbol=TWD&apikey=T4QJDQEMPG0ED9A3&outputsize=full\"\n",
    "        response = requests.get(url)\n",
    "        data = response.json()\n",
    "        if base_currency in data['rates']:\n",
    "            return data['rates'][base_currency]\n",
    "        else:\n",
    "            print(f\"無法取得 {base_currency} 的匯率。\")\n",
    "            return None\n",
    "    except Exception as e:\n",
    "        print(\"取得匯率時出現錯誤：\", e)\n",
    "        return None\n",
    "    \n",
    "# 取得歷史匯率\n",
    "def get_historical_exchange_rate(base_currency,  date):\n",
    "    try:\n",
    "        # Alpha Vantage API 的 URL\n",
    "        url = f\"https://www.alphavantage.co/query?function=FX_DAILY&from_symbol={base_currency}&to_symbol=TWD&apikey=T4QJDQEMPG0ED9A3&outputsize=full\"\n",
    "        response = requests.get(url)\n",
    "        data = response.json()\n",
    "\n",
    "        # 檢查是否成功獲取數據\n",
    "        if 'Time Series FX (Daily)' in data:\n",
    "            time_series = data['Time Series FX (Daily)']\n",
    "            # 轉換日期格式\n",
    "            \n",
    "            if date in time_series:\n",
    "                # 提取對應日期的匯率\n",
    "                exchange_rate = float(time_series[date]['4. close'])\n",
    "                return exchange_rate\n",
    "            else:\n",
    "                print(f\"無法獲取 {base_currency} 和 TWD 的匯率，日期可能不存在。\")\n",
    "                return None\n",
    "        else:\n",
    "            print(\"無法獲取數據，請檢查 API 金鑰或其他設置。\")\n",
    "            return None\n",
    "\n",
    "    except Exception as e:\n",
    "        print(\"取得匯率時出現錯誤：\", e)\n",
    "        return None\n",
    "\n"
   ]
  },
  {
   "cell_type": "code",
   "execution_count": 35,
   "metadata": {},
   "outputs": [
    {
     "name": "stdout",
     "output_type": "stream",
     "text": [
      "取得黃金價格時出現錯誤： 'Time Series (Daily)'\n",
      "無法取得歷史金價: Unknown error\n",
      "取得匯率時出現錯誤： Expecting value: line 1 column 1 (char 0)\n"
     ]
    }
   ],
   "source": [
    "get_gold_price()\n",
    "get_historical_gold_price('2024-10-16')\n",
    "get_exchange_rate('USD', '2024-10-16')\n",
    "# get_historical_exchange_rate('USD', '2024/10/16')\n"
   ]
  },
  {
   "cell_type": "code",
   "execution_count": 24,
   "metadata": {},
   "outputs": [
    {
     "name": "stdout",
     "output_type": "stream",
     "text": [
      "取得歷史金價時出現錯誤： unhashable type: 'dict'\n",
      "None\n"
     ]
    }
   ],
   "source": [
    "# test = get_historical_exchange_rate('USD',  '2024/10/16')\n",
    "test = get_historical_gold_price('2024/10/16') #* get_historical_exchange_rate('USD', '2024/10/16') /31.1035\n",
    "\n",
    "print(test)"
   ]
  },
  {
   "cell_type": "code",
   "execution_count": 22,
   "metadata": {},
   "outputs": [
    {
     "ename": "ValueError",
     "evalue": "time data '' does not match format '%Y/%m/%d'",
     "output_type": "error",
     "traceback": [
      "\u001b[1;31m---------------------------------------------------------------------------\u001b[0m",
      "\u001b[1;31mValueError\u001b[0m                                Traceback (most recent call last)",
      "Cell \u001b[1;32mIn[22], line 76\u001b[0m\n\u001b[0;32m     73\u001b[0m         transactions\u001b[38;5;241m.\u001b[39mto_excel(FILENAME, index\u001b[38;5;241m=\u001b[39m\u001b[38;5;28;01mFalse\u001b[39;00m)\n\u001b[0;32m     75\u001b[0m \u001b[38;5;66;03m# 手動新增交易\u001b[39;00m\n\u001b[1;32m---> 76\u001b[0m \u001b[43madd_transaction\u001b[49m\u001b[43m(\u001b[49m\u001b[43m)\u001b[49m\n\u001b[0;32m     78\u001b[0m \u001b[38;5;66;03m# 儲存更新後的投資紀錄\u001b[39;00m\n\u001b[0;32m     79\u001b[0m save_to_excel()\n",
      "Cell \u001b[1;32mIn[22], line 10\u001b[0m, in \u001b[0;36madd_transaction\u001b[1;34m()\u001b[0m\n\u001b[0;32m      7\u001b[0m 投資項目 \u001b[38;5;241m=\u001b[39m \u001b[38;5;28minput\u001b[39m(\u001b[38;5;124m\"\u001b[39m\u001b[38;5;124m輸入投資項目（如 Gold、USD、EUR 等）: \u001b[39m\u001b[38;5;124m\"\u001b[39m)\n\u001b[0;32m      9\u001b[0m \u001b[38;5;66;03m# 轉換日期格式\u001b[39;00m\n\u001b[1;32m---> 10\u001b[0m 日期 \u001b[38;5;241m=\u001b[39m \u001b[43mdatetime\u001b[49m\u001b[38;5;241;43m.\u001b[39;49m\u001b[43mstrptime\u001b[49m\u001b[43m(\u001b[49m\u001b[43m日期_str\u001b[49m\u001b[43m,\u001b[49m\u001b[43m \u001b[49m\u001b[38;5;124;43m'\u001b[39;49m\u001b[38;5;124;43m%\u001b[39;49m\u001b[38;5;124;43mY/\u001b[39;49m\u001b[38;5;124;43m%\u001b[39;49m\u001b[38;5;124;43mm/\u001b[39;49m\u001b[38;5;132;43;01m%d\u001b[39;49;00m\u001b[38;5;124;43m'\u001b[39;49m\u001b[43m)\u001b[49m\n\u001b[0;32m     13\u001b[0m \u001b[38;5;28;01mif\u001b[39;00m 投資類型 \u001b[38;5;241m==\u001b[39m \u001b[38;5;124m'\u001b[39m\u001b[38;5;124mGold\u001b[39m\u001b[38;5;124m'\u001b[39m:\n\u001b[0;32m     14\u001b[0m     \u001b[38;5;66;03m# 輸入黃金數量\u001b[39;00m\n\u001b[0;32m     15\u001b[0m     \u001b[38;5;28;01mwhile\u001b[39;00m \u001b[38;5;28;01mTrue\u001b[39;00m:\n",
      "File \u001b[1;32m~\\AppData\\Local\\Programs\\Python\\Python313\\Lib\\_strptime.py:573\u001b[0m, in \u001b[0;36m_strptime_datetime\u001b[1;34m(cls, data_string, format)\u001b[0m\n\u001b[0;32m    570\u001b[0m \u001b[38;5;28;01mdef\u001b[39;00m \u001b[38;5;21m_strptime_datetime\u001b[39m(\u001b[38;5;28mcls\u001b[39m, data_string, \u001b[38;5;28mformat\u001b[39m\u001b[38;5;241m=\u001b[39m\u001b[38;5;124m\"\u001b[39m\u001b[38;5;132;01m%a\u001b[39;00m\u001b[38;5;124m \u001b[39m\u001b[38;5;124m%\u001b[39m\u001b[38;5;124mb \u001b[39m\u001b[38;5;132;01m%d\u001b[39;00m\u001b[38;5;124m \u001b[39m\u001b[38;5;124m%\u001b[39m\u001b[38;5;124mH:\u001b[39m\u001b[38;5;124m%\u001b[39m\u001b[38;5;124mM:\u001b[39m\u001b[38;5;124m%\u001b[39m\u001b[38;5;124mS \u001b[39m\u001b[38;5;124m%\u001b[39m\u001b[38;5;124mY\u001b[39m\u001b[38;5;124m\"\u001b[39m):\n\u001b[0;32m    571\u001b[0m \u001b[38;5;250m    \u001b[39m\u001b[38;5;124;03m\"\"\"Return a class cls instance based on the input string and the\u001b[39;00m\n\u001b[0;32m    572\u001b[0m \u001b[38;5;124;03m    format string.\"\"\"\u001b[39;00m\n\u001b[1;32m--> 573\u001b[0m     tt, fraction, gmtoff_fraction \u001b[38;5;241m=\u001b[39m \u001b[43m_strptime\u001b[49m\u001b[43m(\u001b[49m\u001b[43mdata_string\u001b[49m\u001b[43m,\u001b[49m\u001b[43m \u001b[49m\u001b[38;5;28;43mformat\u001b[39;49m\u001b[43m)\u001b[49m\n\u001b[0;32m    574\u001b[0m     tzname, gmtoff \u001b[38;5;241m=\u001b[39m tt[\u001b[38;5;241m-\u001b[39m\u001b[38;5;241m2\u001b[39m:]\n\u001b[0;32m    575\u001b[0m     args \u001b[38;5;241m=\u001b[39m tt[:\u001b[38;5;241m6\u001b[39m] \u001b[38;5;241m+\u001b[39m (fraction,)\n",
      "File \u001b[1;32m~\\AppData\\Local\\Programs\\Python\\Python313\\Lib\\_strptime.py:352\u001b[0m, in \u001b[0;36m_strptime\u001b[1;34m(data_string, format)\u001b[0m\n\u001b[0;32m    350\u001b[0m found \u001b[38;5;241m=\u001b[39m format_regex\u001b[38;5;241m.\u001b[39mmatch(data_string)\n\u001b[0;32m    351\u001b[0m \u001b[38;5;28;01mif\u001b[39;00m \u001b[38;5;129;01mnot\u001b[39;00m found:\n\u001b[1;32m--> 352\u001b[0m     \u001b[38;5;28;01mraise\u001b[39;00m \u001b[38;5;167;01mValueError\u001b[39;00m(\u001b[38;5;124m\"\u001b[39m\u001b[38;5;124mtime data \u001b[39m\u001b[38;5;132;01m%r\u001b[39;00m\u001b[38;5;124m does not match format \u001b[39m\u001b[38;5;132;01m%r\u001b[39;00m\u001b[38;5;124m\"\u001b[39m \u001b[38;5;241m%\u001b[39m\n\u001b[0;32m    353\u001b[0m                      (data_string, \u001b[38;5;28mformat\u001b[39m))\n\u001b[0;32m    354\u001b[0m \u001b[38;5;28;01mif\u001b[39;00m \u001b[38;5;28mlen\u001b[39m(data_string) \u001b[38;5;241m!=\u001b[39m found\u001b[38;5;241m.\u001b[39mend():\n\u001b[0;32m    355\u001b[0m     \u001b[38;5;28;01mraise\u001b[39;00m \u001b[38;5;167;01mValueError\u001b[39;00m(\u001b[38;5;124m\"\u001b[39m\u001b[38;5;124munconverted data remains: \u001b[39m\u001b[38;5;132;01m%s\u001b[39;00m\u001b[38;5;124m\"\u001b[39m \u001b[38;5;241m%\u001b[39m\n\u001b[0;32m    356\u001b[0m                       data_string[found\u001b[38;5;241m.\u001b[39mend():])\n",
      "\u001b[1;31mValueError\u001b[0m: time data '' does not match format '%Y/%m/%d'"
     ]
    }
   ],
   "source": [
    "# 手動新增投資交易\n",
    "def add_transaction():\n",
    "    global transactions\n",
    "    # 手動輸入資料\n",
    "    日期 = input(\"輸入交易日期 (格式：YYYY-MM-DD): \")\n",
    "    投資類型 = input(\"輸入投資類型（Gold 或 Forex）: \")\n",
    "    投資項目 = input(\"輸入投資項目（如 Gold、USD、EUR 等）: \")\n",
    "    \n",
    "    # 轉換日期格式\n",
    "    日期 = datetime.strptime(日期, '%Y-%m-%d')\n",
    "    \n",
    "\n",
    "    if 投資類型 == 'Gold':\n",
    "        # 輸入黃金數量\n",
    "        while True:\n",
    "            try:\n",
    "                數量_or_外幣金額 = float(input(\"輸入黃金數量 (克數): \"))\n",
    "                # 取得當前黃金價格，且由於原本重量以盎司計算將其轉換為克\n",
    "                gold_price_usd = get_historical_gold_price(日期)/31.1035\n",
    "                if gold_price_usd is not None:\n",
    "                    # 獲取匯率\n",
    "                    exchange_rate = get_historical_exchange_rate('USD', 日期)\n",
    "                    if exchange_rate is not None:\n",
    "                        # 將黃金價格轉換為台幣\n",
    "                        黃金價格 = gold_price_usd * exchange_rate\n",
    "                        價格 = 黃金價格 * 數量_or_外幣金額\n",
    "                        break\n",
    "                print(\"無法獲取黃金價格，請檢查日期或API設定。\")\n",
    "                return\n",
    "            except ValueError:\n",
    "                print(\"請輸入一個有效的數字。\")\n",
    "    \n",
    "    elif 投資類型 == 'Forex':\n",
    "        # 輸入外幣數量\n",
    "        while True:\n",
    "            try:\n",
    "                數量_or_外幣金額 = float(input(\"輸入買入外幣金額: \"))  # 外幣數量由用戶輸入\n",
    "                # 使用指定日期的匯率\n",
    "                匯率 = get_historical_exchange_rate(投資項目, 日期)\n",
    "                if 匯率 is None:\n",
    "                    print(\"無法獲取匯率，請檢查日期或API設定。\")\n",
    "                    return\n",
    "                \n",
    "                價格 = 匯率 * 數量_or_外幣金額  # 使用匯率計算價格（台幣）\n",
    "                break\n",
    "            except ValueError:\n",
    "                print(\"請輸入一個有效的數字。\")\n",
    "    \n",
    "    else:\n",
    "        print(\"無效的投資類型！\")\n",
    "        return\n",
    "\n",
    "    # 建立新交易 DataFrame\n",
    "    transaction = pd.DataFrame({\n",
    "        '日期': [日期],\n",
    "        '投資類型': [投資類型],\n",
    "        '投資項目': [投資項目],\n",
    "        '數量_or_外幣金額': [數量_or_外幣金額],\n",
    "        '買進匯率': [匯率],\n",
    "        '價格(台幣)': [價格]\n",
    "    })\n",
    "    \n",
    "    transactions = pd.concat([transactions, transaction], ignore_index=True)\n",
    "\n",
    "# 儲存至 Excel 並追加資料\n",
    "def save_to_excel():\n",
    "    if os.path.exists(FILENAME):\n",
    "        # 如果 Excel 檔案已存在，追加新資料\n",
    "        with pd.ExcelWriter(FILENAME, mode='a', if_sheet_exists='overlay', engine='openpyxl') as writer:\n",
    "            transactions.to_excel(writer, index=False, sheet_name='Sheet1')\n",
    "    else:\n",
    "        # 如果 Excel 檔案不存在，創建新檔案\n",
    "        transactions.to_excel(FILENAME, index=False)\n",
    "\n",
    "# 手動新增交易\n",
    "add_transaction()\n",
    "\n",
    "# 儲存更新後的投資紀錄\n",
    "save_to_excel()\n",
    "\n",
    "print(\"投資紀錄已儲存至 Excel 檔案。\")\n"
   ]
  }
 ],
 "metadata": {
  "kernelspec": {
   "display_name": ".venv",
   "language": "python",
   "name": "python3"
  },
  "language_info": {
   "codemirror_mode": {
    "name": "ipython",
    "version": 3
   },
   "file_extension": ".py",
   "mimetype": "text/x-python",
   "name": "python",
   "nbconvert_exporter": "python",
   "pygments_lexer": "ipython3",
   "version": "3.13.0"
  }
 },
 "nbformat": 4,
 "nbformat_minor": 2
}
